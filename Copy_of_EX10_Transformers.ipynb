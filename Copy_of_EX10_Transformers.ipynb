{
  "cells": [
    {
      "cell_type": "markdown",
      "metadata": {
        "id": "view-in-github",
        "colab_type": "text"
      },
      "source": [
        "<a href=\"https://colab.research.google.com/github/bonvech/MSU-AI/blob/main/Copy_of_EX10_Transformers.ipynb\" target=\"_parent\"><img src=\"https://colab.research.google.com/assets/colab-badge.svg\" alt=\"Open In Colab\"/></a>"
      ]
    },
    {
      "cell_type": "markdown",
      "metadata": {
        "id": "P23_R_JYPNZK"
      },
      "source": [
        "# Вспомогательный код"
      ]
    },
    {
      "cell_type": "markdown",
      "metadata": {
        "id": "QMsrwKGHPNZM"
      },
      "source": [
        "Чтобы результаты экспериментов воспроизводились, зафиксируем seed's:"
      ]
    },
    {
      "cell_type": "code",
      "execution_count": null,
      "metadata": {
        "id": "GTSa4sXWPNZO"
      },
      "outputs": [],
      "source": [
        "import torch\n",
        "import random\n",
        "import numpy as np\n",
        "\n",
        "\n",
        "def set_random_seed(seed):\n",
        "    torch.manual_seed(seed)\n",
        "    torch.cuda.manual_seed(seed)\n",
        "    np.random.seed(seed)\n",
        "    random.seed(seed)\n",
        "    torch.backends.cudnn.deterministic = True\n",
        "\n",
        "\n",
        "set_random_seed(42)"
      ]
    },
    {
      "cell_type": "markdown",
      "metadata": {
        "id": "kaZnulajPNZQ"
      },
      "source": [
        "Для выполнения задания рекомендуется использовать среду с аппаратным ускорителем GPU:"
      ]
    },
    {
      "cell_type": "code",
      "execution_count": null,
      "metadata": {
        "id": "VM_3ZDFrPNZR"
      },
      "outputs": [],
      "source": [
        "device = \"cuda\" if torch.cuda.is_available() else \"cpu\"\n",
        "print(f\"Using {device} device\")"
      ]
    },
    {
      "cell_type": "markdown",
      "metadata": {
        "id": "9PTz1WIQPNZR"
      },
      "source": [
        "Установим Transformers и необходимые библиотеки:"
      ]
    },
    {
      "cell_type": "code",
      "execution_count": null,
      "metadata": {
        "id": "kHpHt85GPNZS"
      },
      "outputs": [],
      "source": [
        "!pip install -q -U transformers accelerate git+https://github.com/huggingface/peft.git"
      ]
    },
    {
      "cell_type": "code",
      "execution_count": null,
      "metadata": {
        "id": "7Gk3fZWOPNZS"
      },
      "outputs": [],
      "source": [
        "!pip install -q datasets==2.16.1"
      ]
    },
    {
      "cell_type": "code",
      "execution_count": null,
      "metadata": {
        "id": "Wx2u9ppuPNZT"
      },
      "outputs": [],
      "source": [
        "!pip install -q trl\n",
        "!pip install -q bitsandbytes==0.41.3 einops #wndb\n",
        "!pip install -q peft==0.6.2"
      ]
    },
    {
      "cell_type": "markdown",
      "metadata": {
        "id": "c5awqO4OPNZT"
      },
      "source": [
        "# Задание 1. \"Естественность\" языка"
      ]
    },
    {
      "cell_type": "markdown",
      "metadata": {
        "id": "WP5e-0GSPNZU"
      },
      "source": [
        "Важная задача в NLP — оценка качества сгенерированного текста.\n",
        "Одной из самых распространённых метрик является [перплексия ✏️[blog]](https://habr.com/ru/companies/wunderfund/articles/580230/). Это классический подход, и существует целый ряд идейно близких метрик.\n",
        "\n",
        "Сейчас появляются метрики, которые не просто применяются \"для нейросетей\", они сами являются нейросетями. [RuCoLa ✏️[blog]](https://habr.com/ru/articles/667336/) — одна из характерных представителей. Это целый проект, со своим API и [лидербордом 🛠️[doc]](https://rucola-benchmark.com/leaderboard).\n",
        "\n",
        "Подобные рейтинги, кстати, позволяют нам выбирать модели под наши задачи.\n",
        "\n",
        "Это модель, обученная на тщательно отобранных лингвистами вручную предложениях, которая производит бинарную классификацию (*приемлемо* или *неприемлемо*), а также выдаёт оценку \"уверенности\" в своём ответе."
      ]
    },
    {
      "cell_type": "markdown",
      "metadata": {
        "id": "ms7l2fzUPNZV"
      },
      "source": [
        "Задачи:\n",
        "\n",
        "* Возьмите два предложенных текста по 12 предложений, получите для каждого предложения цифры по метрикам RuCoLa (не разделяя по классам) и перплексия.\n",
        "* Аугментируйте предложения с помощью библиотек для аугментации текстов, посчитайте по ним метрики.\n",
        "* Постройте \"ящики с усами\" по полученным цифрам для данных до и после аугментаци.\n",
        "* Сравните визуально по паре предложений с самыми худшими и самыми лучшими значениями метрик."
      ]
    },
    {
      "cell_type": "markdown",
      "metadata": {
        "id": "dYHq8QFvPNZV"
      },
      "source": [
        "Установка и импорт необходимых библиотек:"
      ]
    },
    {
      "cell_type": "code",
      "execution_count": null,
      "metadata": {
        "id": "wsx6bJXLPNZW"
      },
      "outputs": [],
      "source": [
        "!pip install -q nlpaug"
      ]
    },
    {
      "cell_type": "code",
      "execution_count": null,
      "metadata": {
        "id": "_GN2hNnuPNZW"
      },
      "outputs": [],
      "source": [
        "import torch\n",
        "import numpy as np\n",
        "import transformers\n",
        "import matplotlib.pyplot as plt\n",
        "from transformers import pipeline\n",
        "from transformers import AutoModelForMaskedLM, AutoTokenizer"
      ]
    },
    {
      "cell_type": "markdown",
      "metadata": {
        "id": "Mpz4Um0nPNZX"
      },
      "source": [
        "Посмотрим, как получить метрику RuCoLa. `LABEL_1` означает, что предложение пригодное, `LABEL_0` — непригодное, `score` — степень уверенности модели в этом в промежутке от 0 до 1.\n",
        "\n",
        "    \n",
        "> Это специально обученная модель для выдачи метрик, применение к другим типам задач может привести к произвольным результатам или не сработать вовсе."
      ]
    },
    {
      "cell_type": "code",
      "execution_count": null,
      "metadata": {
        "id": "EEhmsZplPNZX"
      },
      "outputs": [],
      "source": [
        "from warnings import simplefilter\n",
        "from transformers import pipeline\n",
        "\n",
        "simplefilter(\"ignore\", UserWarning)\n",
        "\n",
        "classifier = pipeline(\"text-classification\", model=\"RussianNLP/ruRoBERTa-large-rucola\")"
      ]
    },
    {
      "cell_type": "markdown",
      "metadata": {
        "id": "UPysNXSZPNZX"
      },
      "source": [
        "Оценим текст, сгенерированный нейросетью."
      ]
    },
    {
      "cell_type": "code",
      "execution_count": null,
      "metadata": {
        "id": "MrTzKZ-9PNZY"
      },
      "outputs": [],
      "source": [
        "text_gen = [\n",
        "    \"Однажды вечером я решил приготовить борщ.\",\n",
        "    \"Я купил все необходимое ингредиенты и начал готовить.\",\n",
        "    \"Через несколько часов борщ готовился, и я решил приготовить блины и пельмени.\",\n",
        "    \"Я начал приготавливать блины, используя те же ингредиенты, что и для борща.\",\n",
        "    \"Я добавил муку, яйца, молоко, соль и перец, и смешал все вместе.\",\n",
        "    \"Затем я выложил тесто в форму и выпекал блины.\",\n",
        "    \"После того, как блины готовы, я начал приготавливать пельмени.\",\n",
        "    \"Я добавил муку, яйца, молоко и соль, и смешал все вместе.\",\n",
        "    \"Затем я выложил тесто в формы и выпекал пельмени.\",\n",
        "    \"Когда борщ, блины и пельмени готовы, я подал все вместе на стол.\",\n",
        "    \"Мы наслаждались вкусным борщем, блинами и пельменами.\",\n",
        "    \"Это было настоящее удовольствие!\",\n",
        "]"
      ]
    },
    {
      "cell_type": "code",
      "execution_count": null,
      "metadata": {
        "id": "vBYa73N5PNZY"
      },
      "outputs": [],
      "source": [
        "gen = classifier(text_gen)"
      ]
    },
    {
      "cell_type": "markdown",
      "metadata": {
        "id": "cWFjVh4MPNZZ"
      },
      "source": [
        "Посчитаем среднее качество текста и уверенность в ответе."
      ]
    },
    {
      "cell_type": "code",
      "execution_count": null,
      "metadata": {
        "id": "4jAxrkRhPNZZ"
      },
      "outputs": [],
      "source": [
        "def average_metric(res):\n",
        "    good = 0\n",
        "    bad = 0\n",
        "    av_score = 0\n",
        "    for i in range(len(res)):\n",
        "        if res[i][\"label\"] == \"LABEL_1\":\n",
        "            good += 1\n",
        "            av_score += res[i][\"score\"]\n",
        "        else:\n",
        "            bad += 1\n",
        "            av_score += res[i][\"score\"]\n",
        "    print(\"Good:\", round(good / len(res), 2))\n",
        "    print(\"Bad:\", round(bad / len(res), 2))\n",
        "    print(\"Mean Score:\", round(av_score / len(res), 3))"
      ]
    },
    {
      "cell_type": "code",
      "execution_count": null,
      "metadata": {
        "id": "DXA3BWYoPNZZ"
      },
      "outputs": [],
      "source": [
        "average_metric(gen)"
      ]
    },
    {
      "cell_type": "markdown",
      "metadata": {
        "id": "YP4wzEEaPNZa"
      },
      "source": [
        "Обратите внимание на разделение по классам. Вы, скорее всего, не являетесь профессиональным лингвистом, но, возможно, сможете оценить (не)естественность предложений.\n",
        "\n",
        "Ниже, для примера, текст из учебника \"Русский язык для иностранцев\"."
      ]
    },
    {
      "cell_type": "code",
      "execution_count": null,
      "metadata": {
        "id": "9xgvmRoEPNZa"
      },
      "outputs": [],
      "source": [
        "text_real = [\n",
        "    \"Привет, любимая.\",\n",
        "    \"Как дела?\",\n",
        "    \"Что делаешь?\",\n",
        "    \"Я сейчас в метро, еду на урок русского языка.\",\n",
        "    \"Обычно я езжу на урок на метро.\",\n",
        "    \"Метро - очень популярный вид транспорта в Москве, потому что в городе всегда пробки.\",\n",
        "    \"Ты знаешь, что значит слово «пробка»?\",\n",
        "    \"По-русски «пробка» - это когда на улице все машины стоят и не едут.\",\n",
        "    \"А ещё пробка есть в бутылке.\",\n",
        "    \"В метро всегда много народу и очень шумно.\",\n",
        "    \"Но оно очень красивое, как музей.\",\n",
        "    \"И ещё оно быстрое и удобное.\",\n",
        "]"
      ]
    },
    {
      "cell_type": "code",
      "execution_count": null,
      "metadata": {
        "id": "qloz8FYWPNZa"
      },
      "outputs": [],
      "source": [
        "real = classifier(text_real)"
      ]
    },
    {
      "cell_type": "code",
      "execution_count": null,
      "metadata": {
        "id": "DckKoqc7PNZa"
      },
      "outputs": [],
      "source": [
        "real"
      ]
    },
    {
      "cell_type": "code",
      "execution_count": null,
      "metadata": {
        "id": "yaMAxHj9PNZb"
      },
      "outputs": [],
      "source": [
        "average_metric(real)"
      ]
    },
    {
      "cell_type": "markdown",
      "metadata": {
        "id": "GZEevoNnPNZb"
      },
      "source": [
        "Воспользуемся метрикой [перплексия ✏️[blog]](https://habr.com/ru/companies/wunderfund/articles/580230/)."
      ]
    },
    {
      "cell_type": "code",
      "execution_count": null,
      "metadata": {
        "id": "awm8iw0OPNZb"
      },
      "outputs": [],
      "source": [
        "from transformers import AutoModelForMaskedLM, AutoTokenizer\n",
        "\n",
        "\n",
        "model_name = \"cointegrated/rubert-tiny2\"\n",
        "model = AutoModelForMaskedLM.from_pretrained(model_name)\n",
        "tokenizer = AutoTokenizer.from_pretrained(model_name)\n",
        "\n",
        "\n",
        "def score(model, tokenizer, sentence):\n",
        "    tensor_input = tokenizer.encode(sentence, return_tensors=\"pt\")\n",
        "    repeat_input = tensor_input.repeat(tensor_input.size(-1) - 2, 1)\n",
        "    mask = torch.ones(tensor_input.size(-1) - 1).diag(1)[:-2]\n",
        "    masked_input = repeat_input.masked_fill(mask == 1, tokenizer.mask_token_id)\n",
        "    labels = repeat_input.masked_fill(masked_input != tokenizer.mask_token_id, -100)\n",
        "    with torch.inference_mode():\n",
        "        loss = model(masked_input, labels=labels).loss\n",
        "    return np.exp(loss.item())\n",
        "\n",
        "\n",
        "print(\n",
        "    score(\n",
        "        sentence=\"London is the capital of Great Britain.\",\n",
        "        model=model,\n",
        "        tokenizer=tokenizer,\n",
        "    )\n",
        ")\n",
        "print(\n",
        "    score(\n",
        "        sentence=\"London is the capital of South America.\",\n",
        "        model=model,\n",
        "        tokenizer=tokenizer,\n",
        "    )\n",
        ")"
      ]
    },
    {
      "cell_type": "markdown",
      "metadata": {
        "id": "hp4XJ8HwPNZc"
      },
      "source": [
        "Посчитайте перплексию для текстов `text_gen` и `text_real`, а также средние значения метрик."
      ]
    },
    {
      "cell_type": "code",
      "execution_count": null,
      "metadata": {
        "id": "VCWr0tZDPNZc"
      },
      "outputs": [],
      "source": [
        "perplex_text_gen = # Your code here\n",
        "perplex_text_real = # Your code here"
      ]
    },
    {
      "cell_type": "markdown",
      "metadata": {
        "id": "Tf8yOYwkPNZd"
      },
      "source": [
        "Возьмите библиотеку аугментации текстов `nlpaug` из прошлой лекции и попортите оба текста. Посчитайте по ним перплексию, RuCoLa и средние значения RuCoLa функцией выше."
      ]
    },
    {
      "cell_type": "markdown",
      "metadata": {
        "id": "LYP-PoaCPNZd"
      },
      "source": [
        "Сначала сделайте аугментацию сгенерированного текста."
      ]
    },
    {
      "cell_type": "code",
      "execution_count": null,
      "metadata": {
        "id": "Qdj1T99JPNZe"
      },
      "outputs": [],
      "source": [
        "import nlpaug.augmenter.word as naw\n",
        "\n",
        "\n",
        "augment = naw.ContextualWordEmbsAug(model_path=\"cointegrated/rubert-tiny2\", action=\"substitute\", aug_p = 0.2)\n",
        "augmented_text_gen = # Your code here\n",
        "\n",
        "augmented_text_gen"
      ]
    },
    {
      "cell_type": "markdown",
      "metadata": {
        "id": "-ak0fsJPPNZe"
      },
      "source": [
        "Посчитайте метрики."
      ]
    },
    {
      "cell_type": "code",
      "execution_count": null,
      "metadata": {
        "id": "N94OkJVbPNZe"
      },
      "outputs": [],
      "source": [
        "gen_aug = classifier(augmented_text_gen)\n",
        "gen_aug"
      ]
    },
    {
      "cell_type": "code",
      "execution_count": null,
      "metadata": {
        "id": "5DMburPKPNZf"
      },
      "outputs": [],
      "source": [
        "# Your code here"
      ]
    },
    {
      "cell_type": "code",
      "execution_count": null,
      "metadata": {
        "id": "pyH1BJKfPNZf"
      },
      "outputs": [],
      "source": [
        "# Your code here"
      ]
    },
    {
      "cell_type": "markdown",
      "metadata": {
        "id": "VsIYg4AoPNZp"
      },
      "source": [
        "Сделайте аугментацию второго текста."
      ]
    },
    {
      "cell_type": "code",
      "execution_count": null,
      "metadata": {
        "id": "FKjqCnNPPNZp"
      },
      "outputs": [],
      "source": [
        "# Your code here"
      ]
    },
    {
      "cell_type": "markdown",
      "metadata": {
        "id": "35dMMUzOPNZq"
      },
      "source": [
        "Посчитайте метрики."
      ]
    },
    {
      "cell_type": "code",
      "execution_count": null,
      "metadata": {
        "id": "EaHwvmiFPNZq"
      },
      "outputs": [],
      "source": [
        "# Your code here"
      ]
    },
    {
      "cell_type": "markdown",
      "metadata": {
        "id": "A5SxXjlpPNZq"
      },
      "source": [
        "Рассчитайте ящики с усами по обоим метрикам. Для это постройте два subplot'a, на каждом из них выведите по 4 ящика. На левом subplot'е — RuCoLa, на правом — перплексия."
      ]
    },
    {
      "cell_type": "code",
      "execution_count": null,
      "metadata": {
        "id": "q7shAupBPNZr"
      },
      "outputs": [],
      "source": [
        "real_scores = # Your code here\n",
        "gen_scores = # Your code here\n",
        "real_aug_scores = # Your code here\n",
        "gen_aug_scores = # Your code here"
      ]
    },
    {
      "cell_type": "markdown",
      "metadata": {
        "id": "swmS486RPNZr"
      },
      "source": [
        "Ниже представлен код для удобства визуализации."
      ]
    },
    {
      "cell_type": "code",
      "execution_count": null,
      "metadata": {
        "id": "RtyVy136PNZr"
      },
      "outputs": [],
      "source": [
        "import matplotlib.pyplot as plt\n",
        "\n",
        "\n",
        "# Male subplots\n",
        "fig, axes = plt.subplots(nrows=1, ncols=2, figsize=(12, 4))\n",
        "\n",
        "# Dict\n",
        "data_r = {\n",
        "    \"gen_scores\": gen_scores,\n",
        "    \"real_scores\": real_scores,\n",
        "    \"gen_aug_scores\": gen_aug_scores,\n",
        "    \"real_aug_scores\": real_aug_scores,\n",
        "}\n",
        "data_p = {\n",
        "    \"text_gen\": perplex_text_gen,\n",
        "    \"text_real\": perplex_text_real,\n",
        "    \"text_gen_aug\": perplex_text_gen_aug,\n",
        "    \"text_real_aug\": perplex_text_real_aug,\n",
        "}\n",
        "\n",
        "axes[0].boxplot(data_r.values())\n",
        "axes[0].set_xticklabels(data_r.keys())\n",
        "axes[0].set_title(\"RuCoLa\")\n",
        "\n",
        "\n",
        "axes[1].boxplot(data_p.values())\n",
        "axes[1].set_xticklabels(data_p.keys())\n",
        "axes[1].set_title(\"Perplexity\")\n",
        "\n",
        "plt.ylabel(\"Values\")\n",
        "\n",
        "plt.tight_layout()\n",
        "plt.show()"
      ]
    },
    {
      "cell_type": "markdown",
      "metadata": {
        "id": "lQyiwhWMPNZs"
      },
      "source": [
        "Можно ли делать вывод о качестве текстов (и, соответственно, моделей, которые их генерируют)?"
      ]
    },
    {
      "cell_type": "markdown",
      "metadata": {
        "id": "43jourh7PNZs"
      },
      "source": [
        "**Дополнительно**\n",
        "\n",
        "* Можно взять весь [датасет RuCoLa 🐾[git]](https://github.com/RussianNLP/RuCoLA) и проверить его согласно метрикам RuCoLa и перплексия, построить \"ящики с усами\".\n",
        "\n",
        "Для скачивания датасета можно воспользоваться командой:\n",
        "\n",
        "\n",
        "```\n",
        "!git clone https://github.com/RussianNLP/RuCoLA.git data/data\n",
        "```\n",
        "\n"
      ]
    },
    {
      "cell_type": "markdown",
      "metadata": {
        "id": "KE1LOzOtPNZs"
      },
      "source": [
        "## Формат результата"
      ]
    },
    {
      "cell_type": "markdown",
      "metadata": {
        "id": "TEugjehcPNZt"
      },
      "source": [
        "Получить \"ящики с усами\" метрик."
      ]
    },
    {
      "cell_type": "markdown",
      "metadata": {
        "id": "CJfmltliPNZt"
      },
      "source": [
        "# Задание 2. Классификация с помощью BERT"
      ]
    },
    {
      "cell_type": "markdown",
      "metadata": {
        "id": "QqpCang9PNZu"
      },
      "source": [
        "Возьмите набор данных эмоциональных окрасок отзывов [emotions dataset 🛠️[doc]](https://huggingface.co/datasets/emotion). В датасете 5 классов. Получите эмбеддинг из BERT-подобного кодировщика. Классифицируйте тексты с помощью методов ML или  нейросети, используя эмбеддинги в качестве входов.\n",
        "\n",
        "Произведите fine-tuning кодировщика на ваших данных (классификатор на основе BERT) и сравните, как изменилось качество классификации."
      ]
    },
    {
      "cell_type": "code",
      "execution_count": null,
      "metadata": {
        "id": "pv4lSHepPNZu"
      },
      "outputs": [],
      "source": [
        "!pip install -q datasets==2.16.1 evaluate"
      ]
    },
    {
      "cell_type": "code",
      "execution_count": null,
      "metadata": {
        "id": "RtkyabhbPNZv"
      },
      "outputs": [],
      "source": [
        "import torch\n",
        "import evaluate\n",
        "import numpy as np\n",
        "import pandas as pd\n",
        "from datasets import Dataset\n",
        "from datasets import load_dataset\n",
        "from datasets.dataset_dict import DatasetDict\n",
        "from transformers import Trainer, TrainingArguments\n",
        "from transformers import AutoTokenizer, AutoModel\n",
        "from transformers import AutoModelForSequenceClassification\n",
        "from sklearn.metrics import classification_report\n",
        "from sklearn.ensemble import RandomForestClassifier\n",
        "from sklearn.model_selection import cross_val_score\n",
        "from sklearn.model_selection import train_test_split"
      ]
    },
    {
      "cell_type": "markdown",
      "metadata": {
        "id": "WHRjPqE8PNZv"
      },
      "source": [
        "Взглянем на датасет."
      ]
    },
    {
      "cell_type": "code",
      "execution_count": null,
      "metadata": {
        "id": "w1s9-fdNPNZw"
      },
      "outputs": [],
      "source": [
        "from warnings import simplefilter\n",
        "\n",
        "simplefilter(\"ignore\", UserWarning)\n",
        "\n",
        "train = load_dataset(\"SetFit/emotion\", split=\"train\")\n",
        "train_df = pd.DataFrame({\"text\": train[\"text\"], \"labels\": train[\"label\"]})\n",
        "train_df.head()"
      ]
    },
    {
      "cell_type": "markdown",
      "metadata": {
        "id": "jACdL-9XPNZw"
      },
      "source": [
        "Инициализация токенайзера и модели. Перед тем, как отправить текст в модель, его следует токенизировать.\n",
        "\n",
        "**Учитывайте**, что:\n",
        "* Мы посмотрели несколько способов получения эмбеддингов из моделей BERT. Воспользуйтесь одним из них.\n",
        "* Длина эмбеддинга больше 200 в данной задаче не потребуется. Чем длиннее эмбеддинг, тем медленнее всё будет учиться.\n",
        "* В каждой части задания нужно задать по отдельной модели.\n",
        "* Библиотеки в первой и второй части задания могут конфликтовать. Используйте \"перезапуск сеанса\", если так случилось."
      ]
    },
    {
      "cell_type": "markdown",
      "metadata": {
        "id": "EMBFfAqCPNZx"
      },
      "source": [
        "Возьмите модель `bert-tiny` и соответствующий токенизатор."
      ]
    },
    {
      "cell_type": "code",
      "execution_count": null,
      "metadata": {
        "id": "2S23bDA0PNZx"
      },
      "outputs": [],
      "source": [
        "from transformers import AutoTokenizer, AutoModel\n",
        "\n",
        "tokenizer = AutoTokenizer.from_pretrained(# Your code here)\n",
        "model = AutoModel.from_pretrained(# Your code here)\n",
        "model.to(device)"
      ]
    },
    {
      "cell_type": "markdown",
      "metadata": {
        "id": "qpAW8ejAPNZx"
      },
      "source": [
        "Посмотрим, как устроен датасет и какой у него баланс классов:"
      ]
    },
    {
      "cell_type": "code",
      "execution_count": null,
      "metadata": {
        "id": "UrFjObrZPNZ0"
      },
      "outputs": [],
      "source": [
        "# Your code here"
      ]
    },
    {
      "cell_type": "markdown",
      "metadata": {
        "id": "URFuWea0PNZ1"
      },
      "source": [
        "Оставьте 5000 объектов, поделив их на обучение, валидацию, тест.\n",
        "\n",
        "Если вы будете семплировать, в функцию `sample` из `pandas` можно подать веса, с которыми будет происходить семплирование.\n",
        "\n",
        "Один из вариантов — создать столбец, в каждой строке которого будет необходимая частота семплирования, и именно этот объект подавать в качестве весов."
      ]
    },
    {
      "cell_type": "code",
      "execution_count": null,
      "metadata": {
        "id": "Y5NH4dvnPNZ1"
      },
      "outputs": [],
      "source": [
        "# Your code here"
      ]
    },
    {
      "cell_type": "code",
      "execution_count": null,
      "metadata": {
        "id": "jJUMXfVOPNZ1"
      },
      "outputs": [],
      "source": [
        "# Your code here"
      ]
    },
    {
      "cell_type": "markdown",
      "metadata": {
        "id": "Nu_bUDvPPNZ2"
      },
      "source": [
        "Также имеет смысл проверить, что в колонке `labels` данные типа `int`. Если нет, то привести к этому типу."
      ]
    },
    {
      "cell_type": "code",
      "execution_count": null,
      "metadata": {
        "id": "wuArn90lPNZ2"
      },
      "outputs": [],
      "source": [
        "# Your code here"
      ]
    },
    {
      "cell_type": "code",
      "execution_count": null,
      "metadata": {
        "id": "cQuJxoq8PNZ2"
      },
      "outputs": [],
      "source": [
        "from sklearn.model_selection import train_test_split\n",
        "\n",
        "# Your code here"
      ]
    },
    {
      "cell_type": "markdown",
      "metadata": {
        "id": "7Y288JBIPNZ3"
      },
      "source": [
        "Проверьте, какие объекты и в каком количестве представлены в метках в трёх выборках."
      ]
    },
    {
      "cell_type": "code",
      "execution_count": null,
      "metadata": {
        "id": "8CzHp7K8PNZ3"
      },
      "outputs": [],
      "source": [
        "# Your code here"
      ]
    },
    {
      "cell_type": "markdown",
      "metadata": {
        "id": "ho4SgPuPPNZ4"
      },
      "source": [
        "Получите и сохраните векторные представления текстов, которые возвращает модель."
      ]
    },
    {
      "cell_type": "code",
      "execution_count": null,
      "metadata": {
        "id": "NrxOwo-APNZ4"
      },
      "outputs": [],
      "source": [
        "train_tok = []\n",
        "# Your code here"
      ]
    },
    {
      "cell_type": "code",
      "execution_count": null,
      "metadata": {
        "id": "ntS-rrVePNZ4"
      },
      "outputs": [],
      "source": [
        "val_tok = []\n",
        "# Your code here"
      ]
    },
    {
      "cell_type": "code",
      "execution_count": null,
      "metadata": {
        "id": "DvPjwhorPNZ5"
      },
      "outputs": [],
      "source": [
        "test_tok = []\n",
        "# Your code here"
      ]
    },
    {
      "cell_type": "markdown",
      "metadata": {
        "id": "PTd42EV3PNZ5"
      },
      "source": [
        "Возьмите ML-классификатор, обучите его и постройте `classification_report`.\n",
        "\n",
        "Базово можно взять `RandomForestClassifier`."
      ]
    },
    {
      "cell_type": "code",
      "execution_count": null,
      "metadata": {
        "id": "vDF4-S3xPNZ6"
      },
      "outputs": [],
      "source": [
        "from sklearn.ensemble import RandomForestClassifier\n",
        "\n",
        "# Your code here"
      ]
    },
    {
      "cell_type": "code",
      "execution_count": null,
      "metadata": {
        "id": "QVhaw4GoPNZ6"
      },
      "outputs": [],
      "source": [
        "from sklearn.metrics import classification_report\n",
        "\n",
        "# Your code here"
      ]
    },
    {
      "cell_type": "markdown",
      "metadata": {
        "id": "DWi82qSjPNZ7"
      },
      "source": [
        "Здесь не требуется получить 100% Presicion и Recall. Однако проверьте, что вы верно разделили данные на 3 подвыборки и что значения метрик не находятся в районе нуля."
      ]
    },
    {
      "cell_type": "markdown",
      "metadata": {
        "id": "euC6X6ZuPNZ8"
      },
      "source": [
        "**Попробуйте дообучить BERT и произвести классификацию заново.**"
      ]
    },
    {
      "cell_type": "code",
      "execution_count": null,
      "metadata": {
        "id": "H23BsQarPNZ8"
      },
      "outputs": [],
      "source": [
        "import evaluate\n",
        "\n",
        "metric = evaluate.load(\"f1\")\n",
        "\n",
        "\n",
        "def compute_metrics(eval_pred):\n",
        "    logits, labels = eval_pred\n",
        "    predictions = np.argmax(logits, axis=-1)\n",
        "    return metric.compute(\n",
        "        predictions=predictions, references=labels, average=\"weighted\"\n",
        "    )"
      ]
    },
    {
      "cell_type": "code",
      "execution_count": null,
      "metadata": {
        "id": "7WeDjAxwPNZ8"
      },
      "outputs": [],
      "source": [
        "from datasets import Dataset\n",
        "from datasets.dataset_dict import DatasetDict\n",
        "\n",
        "d = {\n",
        "    \"train\": Dataset.from_dict({\"label\": y_train, \"text\": x_train}),\n",
        "    \"val\": Dataset.from_dict({\"label\": y_val, \"text\": x_val}),\n",
        "    \"test\": Dataset.from_dict({\"label\": y_test, \"text\": x_test}),\n",
        "}\n",
        "\n",
        "dataset = DatasetDict(d)"
      ]
    },
    {
      "cell_type": "code",
      "execution_count": null,
      "metadata": {
        "id": "-E5GhjXKPNZ8"
      },
      "outputs": [],
      "source": [
        "dataset"
      ]
    },
    {
      "cell_type": "markdown",
      "metadata": {
        "id": "kqTudSrQPNZ9"
      },
      "source": [
        "Настройте токенизатор (если это не было сделано выше) так, чтобы производились дополнение (padding) и обрезка предложений. Имеет смысл указать длину получаемых векторных представлений (`model_max_length`)."
      ]
    },
    {
      "cell_type": "code",
      "execution_count": null,
      "metadata": {
        "id": "1WDdCvcHPNZ9"
      },
      "outputs": [],
      "source": [
        "# Your code here"
      ]
    },
    {
      "cell_type": "markdown",
      "metadata": {
        "id": "NJSBguBMPNZ-"
      },
      "source": [
        "Напишите функцию, которая будет токенизировать ваш текст в `DatasetDict`."
      ]
    },
    {
      "cell_type": "code",
      "execution_count": null,
      "metadata": {
        "id": "kdE58YM4PNZ-"
      },
      "outputs": [],
      "source": [
        "# Your code here"
      ]
    },
    {
      "cell_type": "markdown",
      "metadata": {
        "id": "RdGIu0qGPNZ-"
      },
      "source": [
        "Токенизируйте ваши данные:"
      ]
    },
    {
      "cell_type": "code",
      "execution_count": null,
      "metadata": {
        "id": "MJd86vxtPNZ-"
      },
      "outputs": [],
      "source": [
        "# Your code here"
      ]
    },
    {
      "cell_type": "markdown",
      "metadata": {
        "id": "7u8Q3cRBPNZ_"
      },
      "source": [
        "Посмотрите, как  выглядит ваш `DatasetDict`, какие размеры (`shape`) сущностей, которые он содержит."
      ]
    },
    {
      "cell_type": "code",
      "execution_count": null,
      "metadata": {
        "id": "w9XZ8G4YPNZ_"
      },
      "outputs": [],
      "source": [
        "# Your code here"
      ]
    },
    {
      "cell_type": "code",
      "execution_count": null,
      "metadata": {
        "id": "Rsii4SCZPNZ_"
      },
      "outputs": [],
      "source": [
        "# Your code here"
      ]
    },
    {
      "cell_type": "markdown",
      "metadata": {
        "id": "7GuHqsxiPNZ_"
      },
      "source": [
        "Импортируйте модель с учётом того, что вы уже решаете не просто задачу построения эмбеддингов, а задачу классификации."
      ]
    },
    {
      "cell_type": "code",
      "execution_count": null,
      "metadata": {
        "id": "odiCgI2UPNaA"
      },
      "outputs": [],
      "source": [
        "# Your code here\n",
        "model_for_classification ="
      ]
    },
    {
      "cell_type": "code",
      "execution_count": null,
      "metadata": {
        "id": "H4yls5oPPNaA"
      },
      "outputs": [],
      "source": [
        "# model"
      ]
    },
    {
      "cell_type": "markdown",
      "metadata": {
        "id": "qyEV4CO5PNaA"
      },
      "source": [
        "Задайте параметры, обучите модель:"
      ]
    },
    {
      "cell_type": "code",
      "execution_count": null,
      "metadata": {
        "id": "xykF0xE9PNaA"
      },
      "outputs": [],
      "source": [
        "from transformers import Trainer, TrainingArguments\n",
        "\n",
        "# Your code here\n",
        "training_args = TrainingArguments(\n",
        "    output_dir=\"./my_awesome_model\",\n",
        "    learning_rate=2e-5,\n",
        "    per_device_train_batch_size=#,\n",
        "    per_device_eval_batch_size=#,\n",
        "    num_train_epochs= #,#about 1.5 minutes for 1 epoch\n",
        "    weight_decay=#,\n",
        "    evaluation_strategy=#,\n",
        "    save_strategy= #,\n",
        "    load_best_model_at_end= #,\n",
        "    push_to_hub=False,\n",
        ")\n",
        "\n",
        "\n",
        "\n",
        "trainer = Trainer(\n",
        "    model=model,                         # the instantiated 🤗 Transformers model to be trained\n",
        "    args=training_args,                  # training arguments, defined above\n",
        "    train_dataset=tokenized_data['train'],         # training dataset\n",
        "    eval_dataset=tokenized_data['val'],\n",
        "    tokenizer=tokenizer,\n",
        "    compute_metrics=compute_metrics\n",
        ")\n",
        "\n",
        "trainer.train()"
      ]
    },
    {
      "cell_type": "markdown",
      "metadata": {
        "id": "BNJKvTuGPNaB"
      },
      "source": [
        "Мы дообучили модель. Теперь проверим качество предсказания на тесте.\n",
        "\n",
        "Можете использовать `trainer.predict`."
      ]
    },
    {
      "cell_type": "code",
      "execution_count": null,
      "metadata": {
        "id": "-lQ9nPE0PNaB"
      },
      "outputs": [],
      "source": [
        "# Your code here"
      ]
    },
    {
      "cell_type": "code",
      "execution_count": null,
      "metadata": {
        "id": "OxMhEC3_PNaB"
      },
      "outputs": [],
      "source": [
        "from sklearn.metrics import classification_report\n",
        "\n",
        "# Your code here"
      ]
    },
    {
      "cell_type": "markdown",
      "metadata": {
        "id": "UsZHM6ksPNaB"
      },
      "source": [
        "Если у вас получилось 100%, проверьте, что с чем вы сравниваете. По умолчанию `predict` возвращает логиты и истинные метки, которые были изначально в переданном объекте."
      ]
    },
    {
      "cell_type": "markdown",
      "metadata": {
        "id": "jOiJv6wmPNaC"
      },
      "source": [
        "**Дополнительно**\n",
        "\n",
        "* Попробуйте классифицировать, использовав такие методы, как TF-IDF, word2vec и другие.\n",
        "\n",
        "* Попробуйте использовать косинусную меру для оценки близости текстов. Получается ли с её помощью разделять классы?"
      ]
    },
    {
      "cell_type": "markdown",
      "metadata": {
        "id": "cxGtvcqQPNaC"
      },
      "source": [
        "## Формат результата"
      ]
    },
    {
      "cell_type": "markdown",
      "metadata": {
        "id": "2OaDRjolPNaC"
      },
      "source": [
        "Получить значение качества классификации."
      ]
    },
    {
      "cell_type": "markdown",
      "metadata": {
        "id": "HmY3A7qhPNaC"
      },
      "source": [
        "# Задание 3. Генерация текста"
      ]
    },
    {
      "cell_type": "markdown",
      "metadata": {
        "id": "6KnahoquPNaD"
      },
      "source": [
        "Возьмите произведение Гете \"Фауст\" и обучите на нем модель генерации текста.\n",
        "\n",
        "При обучении игнорируйте знаки препинания и номера страниц.\n",
        "\n",
        "Используйте предобученную модель `sberbank-ai/rugpt3small_based_on_gpt2` из библиотеки Hugging Face. Попробуйте разные параметры модели (например, разные режимы генерации). Как меняется результат?\n"
      ]
    },
    {
      "cell_type": "markdown",
      "metadata": {
        "id": "5hpkZduqPNaD"
      },
      "source": [
        "Импорт необходимых библиотек:"
      ]
    },
    {
      "cell_type": "code",
      "execution_count": null,
      "metadata": {
        "id": "aRYC_oKmPNaD"
      },
      "outputs": [],
      "source": [
        "import torch\n",
        "from transformers import Trainer, TrainingArguments\n",
        "from transformers import GPT2Tokenizer, GPT2LMHeadModel\n",
        "from transformers import TextDataset, DataCollatorForLanguageModeling"
      ]
    },
    {
      "cell_type": "markdown",
      "metadata": {
        "id": "jYP-4rFPPNaD"
      },
      "source": [
        "## Загрузка и подготовка данных"
      ]
    },
    {
      "cell_type": "code",
      "execution_count": null,
      "metadata": {
        "id": "EuZZsaP8PNaE"
      },
      "outputs": [],
      "source": [
        "!wget -q https://edunet.kea.su/repo/EduNet-web_dependencies/datasets/Faust.txt"
      ]
    },
    {
      "cell_type": "code",
      "execution_count": null,
      "metadata": {
        "id": "cd_CsbsiPNaE"
      },
      "outputs": [],
      "source": [
        "with open(\"Faust.txt\") as text_file:\n",
        "    faust_text = \"\".join(text_file.readlines())"
      ]
    },
    {
      "cell_type": "code",
      "execution_count": null,
      "metadata": {
        "id": "eHzgmCqhPNaF"
      },
      "outputs": [],
      "source": [
        "faust_text"
      ]
    },
    {
      "cell_type": "code",
      "execution_count": null,
      "metadata": {
        "id": "pe4Se6fYPNaF"
      },
      "outputs": [],
      "source": [
        "len(faust_text.split(\" \"))"
      ]
    },
    {
      "cell_type": "markdown",
      "metadata": {
        "id": "_FJUpGPoPNaF"
      },
      "source": [
        "Удалим знаки управляющих символов и приведем текст к нижнему регистру:"
      ]
    },
    {
      "cell_type": "code",
      "execution_count": null,
      "metadata": {
        "id": "cE6pEJ58PNaF"
      },
      "outputs": [],
      "source": [
        "text = (\n",
        "    faust_text.replace(\"\\n\", \" \")\n",
        "    .replace(\"\\r\", \"\")\n",
        "    .replace(\"\\ufeff\", \"\")\n",
        "    .replace(\"\\x0c\", \"\")\n",
        ")\n",
        "text = \"\".join([char for char in text if char.isalpha() or char == \" \"])\n",
        "text = text.lower()"
      ]
    },
    {
      "cell_type": "code",
      "execution_count": null,
      "metadata": {
        "id": "PZy-H1MSPNaG"
      },
      "outputs": [],
      "source": [
        "text"
      ]
    },
    {
      "cell_type": "markdown",
      "metadata": {
        "id": "UIGN2f4BPNaG"
      },
      "source": [
        "Запишем обработанные данные в текстовый файл:"
      ]
    },
    {
      "cell_type": "code",
      "execution_count": null,
      "metadata": {
        "id": "pBy0BC8nPNaG"
      },
      "outputs": [],
      "source": [
        "with open(train_path, \"w\") as f:\n",
        "    f.write(text)"
      ]
    },
    {
      "cell_type": "markdown",
      "metadata": {
        "id": "r_JIIiZfPNaH"
      },
      "source": [
        "## Предобученная sberbank-ai GPT2"
      ]
    },
    {
      "cell_type": "markdown",
      "metadata": {
        "id": "HXnsMN5BPNaH"
      },
      "source": [
        "Возьмите предобученную модель и попробуйте сгенерировать текст с ее помощью. Оцените результаты."
      ]
    },
    {
      "cell_type": "code",
      "execution_count": null,
      "metadata": {
        "id": "yvJpyMGaPNaH"
      },
      "outputs": [],
      "source": [
        "from transformers import GPT2Tokenizer, GPT2LMHeadModel\n",
        "\n",
        "\n",
        "model_name_or_path = \"sberbank-ai/rugpt3small_based_on_gpt2\"\n",
        "tokenizer = GPT2Tokenizer.from_pretrained(model_name_or_path)\n",
        "model = GPT2LMHeadModel.from_pretrained(model_name_or_path)\n",
        "\n",
        "input_ids = # Your code here\n",
        "\n",
        "sample_output = model.generate(\n",
        "# Your code here\n",
        ")\n",
        "\n",
        "generated_text = tokenizer.decode(sample_output[0], skip_special_tokens=True)"
      ]
    },
    {
      "cell_type": "code",
      "execution_count": null,
      "metadata": {
        "id": "ynAZDwiFPNaI"
      },
      "outputs": [],
      "source": [
        "print(generated_text)"
      ]
    },
    {
      "cell_type": "markdown",
      "metadata": {
        "id": "BE0yPpfmPNaI"
      },
      "source": [
        "## Файнтюнинг sberbank-ai GPT2"
      ]
    },
    {
      "cell_type": "markdown",
      "metadata": {
        "id": "aAO0KIuiPNaI"
      },
      "source": [
        "Дообучите модель. Для этого сначала создадим датасет и `data_collator`, который нарезает текст на оптимальные по длине куски:"
      ]
    },
    {
      "cell_type": "code",
      "execution_count": null,
      "metadata": {
        "id": "aMuan10OPNaI"
      },
      "outputs": [],
      "source": [
        "from transformers import TextDataset, DataCollatorForLanguageModeling\n",
        "from warnings import simplefilter\n",
        "\n",
        "simplefilter(\"ignore\", category=FutureWarning)\n",
        "\n",
        "train_path = \"Faust.txt\"\n",
        "\n",
        "train_dataset = TextDataset(tokenizer=tokenizer, file_path=train_path, block_size=64)\n",
        "data_collator = DataCollatorForLanguageModeling(tokenizer=tokenizer, mlm=False)"
      ]
    },
    {
      "cell_type": "code",
      "execution_count": null,
      "metadata": {
        "id": "0jjKS-0mPNaJ"
      },
      "outputs": [],
      "source": [
        "from transformers import Trainer, TrainingArguments\n",
        "\n",
        "model.to(device)\n",
        "\n",
        "# Your code here\n",
        "training_args = TrainingArguments(\n",
        "    output_dir=, #The output directory\n",
        "    overwrite_output_dir=, #overwrite the content of the output directory\n",
        "    num_train_epochs=, # number of training epochs\n",
        "    per_device_train_batch_size=, # batch size for training\n",
        "    per_device_eval_batch_size=,  # batch size for evaluation\n",
        "    warmup_steps=,# number of warmup steps for learning rate scheduler\n",
        "    gradient_accumulation_steps=, # to make \"virtual\" batch size larger\n",
        "    )\n",
        "\n",
        "\n",
        "trainer = Trainer(\n",
        "    model=model,\n",
        "    args=training_args,\n",
        "    data_collator=data_collator,\n",
        "    train_dataset=train_dataset,\n",
        "    optimizers = # Your code here # Optimizer and lr scheduler\n",
        ")"
      ]
    },
    {
      "cell_type": "code",
      "execution_count": null,
      "metadata": {
        "id": "lYJoC3tPPNaJ"
      },
      "outputs": [],
      "source": [
        "trainer.train()"
      ]
    },
    {
      "cell_type": "code",
      "execution_count": null,
      "metadata": {
        "id": "UofoROz9PNaK"
      },
      "outputs": [],
      "source": [
        "# Probability beam sampling example\n",
        "text = \"Ходил\"\n",
        "input_ids = tokenizer.encode(text, return_tensors=\"pt\").to(device)\n",
        "model.eval()\n",
        "with torch.no_grad():\n",
        "    out = model.generate(\n",
        "        input_ids,\n",
        "        do_sample=True,\n",
        "        num_beams=2,\n",
        "        temperature=1.5,\n",
        "        top_p=0.9,\n",
        "        max_length=200,\n",
        "    )\n",
        "\n",
        "generated_text = list(map(tokenizer.decode, out))[0]"
      ]
    },
    {
      "cell_type": "code",
      "execution_count": null,
      "metadata": {
        "id": "GHrR1Fk2PNaK"
      },
      "outputs": [],
      "source": [
        "print(generated_text)"
      ]
    },
    {
      "cell_type": "markdown",
      "metadata": {
        "id": "7EuJ4KpfPNaK"
      },
      "source": [
        "## Другая модель с HuggingFace"
      ]
    },
    {
      "cell_type": "code",
      "execution_count": null,
      "metadata": {
        "id": "lN0poz4rPNaK"
      },
      "outputs": [],
      "source": [
        "from transformers import GPT2Tokenizer, GPT2LMHeadModel\n",
        "\n",
        "\n",
        "tokenizer = GPT2Tokenizer.from_pretrained(\"cometrain/neurotitle-rugpt3-small\")\n",
        "model = GPT2LMHeadModel.from_pretrained(\"cometrain/neurotitle-rugpt3-small\")"
      ]
    },
    {
      "cell_type": "code",
      "execution_count": null,
      "metadata": {
        "id": "w6880JS_PNaL"
      },
      "outputs": [],
      "source": [
        "from transformers import TextDataset, DataCollatorForLanguageModeling\n",
        "\n",
        "train_path = \"Faust.txt\"\n",
        "\n",
        "train_dataset = TextDataset(tokenizer=tokenizer, file_path=train_path, block_size=64)\n",
        "data_collator = DataCollatorForLanguageModeling(tokenizer=tokenizer, mlm=False)"
      ]
    },
    {
      "cell_type": "code",
      "execution_count": null,
      "metadata": {
        "id": "O40S16w0PNaL"
      },
      "outputs": [],
      "source": [
        "from transformers import Trainer, TrainingArguments\n",
        "\n",
        "model.to(device)\n",
        "\n",
        "# Your code here\n",
        "training_args = TrainingArguments(\n",
        "    output_dir=, #The output directory\n",
        "    overwrite_output_dir=, #overwrite the content of the output directory\n",
        "    num_train_epochs=, # number of training epochs\n",
        "    per_device_train_batch_size=, # batch size for training\n",
        "    per_device_eval_batch_size=,  # batch size for evaluation\n",
        "    warmup_steps=,# number of warmup steps for learning rate scheduler\n",
        "    gradient_accumulation_steps=, # to make \"virtual\" batch size larger\n",
        "    )\n",
        "\n",
        "\n",
        "trainer = Trainer(\n",
        "    model=model,\n",
        "    args=training_args,\n",
        "    data_collator=data_collator,\n",
        "    train_dataset=train_dataset,\n",
        "    optimizers = # Your code here # Optimizer and lr scheduler\n",
        ")"
      ]
    },
    {
      "cell_type": "code",
      "execution_count": null,
      "metadata": {
        "id": "WcJKnxr3PNaM"
      },
      "outputs": [],
      "source": [
        "trainer.train()"
      ]
    },
    {
      "cell_type": "code",
      "execution_count": null,
      "metadata": {
        "id": "KCKhygAaPNaP"
      },
      "outputs": [],
      "source": [
        "# Probability beam sampling example\n",
        "text = \"все\"\n",
        "input_ids = tokenizer.encode(text, return_tensors=\"pt\").to(device)\n",
        "model.eval()\n",
        "with torch.no_grad():\n",
        "    out = model.generate(\n",
        "        input_ids,\n",
        "        do_sample=True,\n",
        "        num_beams=1,\n",
        "        temperature=1.6,\n",
        "        top_p=0.7,\n",
        "        max_length=100,\n",
        "        pad_token_id=tokenizer.eos_token_id,\n",
        "    )\n",
        "\n",
        "generated_text = list(map(tokenizer.decode, out))[0]"
      ]
    },
    {
      "cell_type": "code",
      "execution_count": null,
      "metadata": {
        "id": "eISCliRjPNaQ"
      },
      "outputs": [],
      "source": [
        "print(generated_text)"
      ]
    },
    {
      "cell_type": "markdown",
      "metadata": {
        "id": "Njj-50QaPNaQ"
      },
      "source": [
        "## Формат результата"
      ]
    },
    {
      "cell_type": "markdown",
      "metadata": {
        "id": "K649WnDnPNaQ"
      },
      "source": [
        "Сгенерированный текст\n",
        "\n",
        "Пример текста:\n",
        "\n",
        "\"все все от бесстыдные старой\n",
        "\n",
        "все в нем получше все стремленья\n",
        "\n",
        "поддержки с собой в сердце воздух своей\n",
        "\n",
        "и в вечной страсти восстанет свой предлог\n",
        "\n",
        "привет вам слуга в сладком страшней стране\n",
        "\n",
        "и в мире все вражда станет станет\n",
        "\n",
        "в поле на пользу своим воспоминанья\"\n"
      ]
    },
    {
      "cell_type": "markdown",
      "metadata": {
        "id": "Jo7ZPpgOPNaQ"
      },
      "source": [
        "# Задание 4. QLoRa"
      ]
    },
    {
      "cell_type": "markdown",
      "metadata": {
        "id": "KoiGrGvVPNaR"
      },
      "source": [
        "Дообучите большую языковую модель.\n",
        "\n",
        "В этом задании мы предлагаем для проверки подхода взять готовый датасет, загрузка которого реализована ниже.\n",
        "\n",
        "Идея задания состоит в том, чтобы вы прошли весь путь по запуску дообучения по методу LoRa. Здесь не требуется брать большие модели или учить сотни эпох.\n",
        "\n",
        "*Перед выполнением задания может потребоваться перезагрузить среду.*"
      ]
    },
    {
      "cell_type": "markdown",
      "metadata": {
        "id": "8dLADd4yPNaR"
      },
      "source": [
        "В задании используется `SFTTrainer` [🛠️[doc]](https://huggingface.co/docs/trl/sft_trainer) (Supervised Fine Tune Trainer).\n",
        "\n",
        "Это обёртка над классом `Trainer` для обучения моделей на наборах инструкций с использованием адаптеров PEFT."
      ]
    },
    {
      "cell_type": "markdown",
      "metadata": {
        "id": "TBXuaWlTPNaR"
      },
      "source": [
        "Установка и импорт необходимых библиотек:"
      ]
    },
    {
      "cell_type": "code",
      "execution_count": null,
      "metadata": {
        "id": "9lXSYGVfPNaS"
      },
      "outputs": [],
      "source": [
        "!pip install -q zstandard jsonlines"
      ]
    },
    {
      "cell_type": "code",
      "execution_count": null,
      "metadata": {
        "id": "n8tQF6_sPNaS"
      },
      "outputs": [],
      "source": [
        "import bitsandbytes as bnb\n",
        "from trl import SFTTrainer\n",
        "from peft import LoraConfig\n",
        "from datasets import load_dataset\n",
        "from transformers import AutoTokenizer, TrainingArguments\n",
        "from transformers import AutoModelForCausalLM, BitsAndBytesConfig"
      ]
    },
    {
      "cell_type": "markdown",
      "metadata": {
        "id": "a0fndTo8PNaS"
      },
      "source": [
        "## Загрузка и подготовка данных"
      ]
    },
    {
      "cell_type": "markdown",
      "metadata": {
        "id": "e7Pi4PahPNaS"
      },
      "source": [
        "С помощью поисковика найдём [небольшую модель 🛠️[doc]](https://llm.extractum.io/model/Defetya%2Fopenllama-3b-saiga,5NvQyABIZu8ZZa2NCI6BQN)."
      ]
    },
    {
      "cell_type": "code",
      "execution_count": null,
      "metadata": {
        "id": "nvyWqtuiPNaT"
      },
      "outputs": [],
      "source": [
        "from transformers import AutoModelForCausalLM, BitsAndBytesConfig\n",
        "\n",
        "model_name = \"Defetya/openllama-3b-saiga\"\n",
        "\n",
        "bnb_config = BitsAndBytesConfig(\n",
        "    load_in_4bit=True,\n",
        "    bnb_4bit_use_double_quant=True,\n",
        "    bnb_4bit_quant_type=\"nf4\",\n",
        "    bnb_4bit_compute_dtype=torch.float32,\n",
        ")\n",
        "\n",
        "model = AutoModelForCausalLM.from_pretrained(\n",
        "    model_name,\n",
        "    quantization_config=bnb_config,\n",
        "    trust_remote_code=True,\n",
        "    low_cpu_mem_usage=True,\n",
        ")\n",
        "model.config.use_cache = False"
      ]
    },
    {
      "cell_type": "markdown",
      "metadata": {
        "id": "hZ8ZmWQWPNaT"
      },
      "source": [
        "Загрузите токенизатор. Вам может помочь параметр `trust_remote_code=True`."
      ]
    },
    {
      "cell_type": "code",
      "execution_count": null,
      "metadata": {
        "id": "36Sk2_vEPNaT"
      },
      "outputs": [],
      "source": [
        "from transformers import AutoTokenizer\n",
        "\n",
        "tokenizer =  # Your code here\n",
        "tokenizer.pad_token =  # Your code here"
      ]
    },
    {
      "cell_type": "markdown",
      "metadata": {
        "id": "fiBZum4QPNaU"
      },
      "source": [
        "Воспользуйтесь библиотекой peft и настройте `peft_config`, определите `target_modules` для LoRa:"
      ]
    },
    {
      "cell_type": "code",
      "execution_count": null,
      "metadata": {
        "id": "s6wVYYSVPNaU"
      },
      "outputs": [],
      "source": [
        "lora_alpha = # Your code here\n",
        "lora_dropout = # Your code here\n",
        "lora_r = # Your code here"
      ]
    },
    {
      "cell_type": "code",
      "execution_count": null,
      "metadata": {
        "id": "lN9-LsF3PNaU"
      },
      "outputs": [],
      "source": [
        "# Your code here"
      ]
    },
    {
      "cell_type": "code",
      "execution_count": null,
      "metadata": {
        "id": "lTWEyw8OPNaU"
      },
      "outputs": [],
      "source": [
        "from peft import LoraConfig\n",
        "\n",
        "peft_config = LoraConfig(\n",
        "    lora_alpha=# Your code here\n",
        "    target_modules = # Your code here\n",
        "    lora_dropout=# Your code here\n",
        "    r=# Your code here\n",
        "    bias=# Your code here\n",
        "    task_type=\"CAUSAL_LM\"\n",
        ")"
      ]
    },
    {
      "cell_type": "markdown",
      "metadata": {
        "id": "Un3qfNT4PNaV"
      },
      "source": [
        "Загрузите датасет:"
      ]
    },
    {
      "cell_type": "code",
      "execution_count": null,
      "metadata": {
        "id": "gjIZ7axoPNaV"
      },
      "outputs": [],
      "source": [
        "from datasets import load_dataset\n",
        "\n",
        "dataset_name = \"IlyaGusev/ru_turbo_alpaca\"\n",
        "dataset = load_dataset(dataset_name, split=\"train\", trust_remote_code=True)"
      ]
    },
    {
      "cell_type": "markdown",
      "metadata": {
        "id": "kAT4jvGIPNaV"
      },
      "source": [
        "Датасет представляет собой набор простых вопросов и ответов."
      ]
    },
    {
      "cell_type": "code",
      "execution_count": null,
      "metadata": {
        "id": "hQqOMmZ1PNaV"
      },
      "outputs": [],
      "source": [
        "dataset"
      ]
    },
    {
      "cell_type": "markdown",
      "metadata": {
        "id": "QcCzHRxgPNaW"
      },
      "source": [
        "Проверьте, насколько качественно модель умеет работать. Задайте вопрос из только что загруженного датасета."
      ]
    },
    {
      "cell_type": "code",
      "execution_count": null,
      "metadata": {
        "id": "4zeXQck6PNaW"
      },
      "outputs": [],
      "source": [
        "# Your code here"
      ]
    },
    {
      "cell_type": "markdown",
      "metadata": {
        "id": "5UvZLAswPNaW"
      },
      "source": [
        "Необходимо в одну инструкцию заложить и вопрос, и ответ. Преобразуйте датасет так, чтобы можно было подать единственное текстовое поле далее в `SFTrainer`."
      ]
    },
    {
      "cell_type": "code",
      "execution_count": null,
      "metadata": {
        "id": "hCFWkZLJPNaW"
      },
      "outputs": [],
      "source": [
        "# Your code here"
      ]
    },
    {
      "cell_type": "markdown",
      "metadata": {
        "id": "X5J1GbgzPNaX"
      },
      "source": [
        "Настройте параметры и передайте их в `TrainingArguments`:"
      ]
    },
    {
      "cell_type": "code",
      "execution_count": null,
      "metadata": {
        "id": "3992D5ibPNaX"
      },
      "outputs": [],
      "source": [
        "from transformers import TrainingArguments\n",
        "\n",
        "output_dir = \"./results\"\n",
        "per_device_train_batch_size = # Your code here\n",
        "gradient_accumulation_steps = # Your code here\n",
        "optim = \"paged_adamw_32bit\"\n",
        "save_steps = 100\n",
        "logging_steps = # Your code here\n",
        "learning_rate = # Your code here\n",
        "max_grad_norm = # Your code here\n",
        "max_steps = # Your code here\n",
        "warmup_ratio = # Your code here\n",
        "lr_scheduler_type = # Your code here\n",
        "\n",
        "training_arguments = TrainingArguments(\n",
        "    output_dir=output_dir,\n",
        "    per_device_train_batch_size=per_device_train_batch_size,\n",
        "    gradient_accumulation_steps=gradient_accumulation_steps,\n",
        "    optim=optim,\n",
        "    save_steps=save_steps,\n",
        "    logging_steps=logging_steps,\n",
        "    learning_rate=learning_rate,\n",
        "    fp16=True,\n",
        "    max_grad_norm=max_grad_norm,\n",
        "    max_steps=max_steps,\n",
        "    warmup_ratio=warmup_ratio,\n",
        "    group_by_length=True,\n",
        "    lr_scheduler_type=lr_scheduler_type,\n",
        ")"
      ]
    },
    {
      "cell_type": "markdown",
      "metadata": {
        "id": "5Kc1e0MhPNac"
      },
      "source": [
        "Подайте всё в `SFTTrainer`:"
      ]
    },
    {
      "cell_type": "code",
      "execution_count": null,
      "metadata": {
        "id": "s1s7qITiPNad"
      },
      "outputs": [],
      "source": [
        "from trl import SFTTrainer\n",
        "\n",
        "max_seq_length = 256\n",
        "tokenizer.padding_side = \"right\"\n",
        "\n",
        "trainer = SFTTrainer(\n",
        "    model=model,\n",
        "    train_dataset=dataset,  # your dataset\n",
        "    peft_config=peft_config,\n",
        "    dataset_text_field=\"text\",\n",
        "    max_seq_length=max_seq_length,\n",
        "    tokenizer=tokenizer,\n",
        "    args=training_arguments,\n",
        ")"
      ]
    },
    {
      "cell_type": "code",
      "execution_count": null,
      "metadata": {
        "id": "lvOkbSisPNad"
      },
      "outputs": [],
      "source": [
        "trainer.train()"
      ]
    },
    {
      "cell_type": "markdown",
      "metadata": {
        "id": "G72PmyCsPNad"
      },
      "source": [
        "Изменилось ли качество генерации после обучения?\n",
        "Попробуйте вновь подать тот же промпт. Модель должна выдать ответ, более похожий на уже виденный каноничный ответ."
      ]
    },
    {
      "cell_type": "code",
      "execution_count": null,
      "metadata": {
        "id": "JC48RhFxPNae"
      },
      "outputs": [],
      "source": [
        "# Your code here"
      ]
    },
    {
      "cell_type": "markdown",
      "metadata": {
        "id": "Kmk61QRJPNae"
      },
      "source": [
        "## Формат результата"
      ]
    },
    {
      "cell_type": "markdown",
      "metadata": {
        "id": "6txDQ6f3PNaf"
      },
      "source": [
        "Сгенерированный текст ответа на поданный вопрос. Пример:\n",
        "\n",
        "\n",
        "```\n",
        "Опишите, как сделать горшок из глины.\n",
        "\n",
        "Горшок из глины\n",
        "Глина (2 столовые ложки)\n",
        "\n",
        "Инструкции:\n",
        "\n",
        "1. Размешайте глину в ведре до однородности.\n",
        "\n",
        "2. Вам понадобится деревянная палочка для насыпки глины.\n",
        "\n",
        "3. Выложите горшок в целлофан и привяжите его к стенке горшка для дополнительной устойчивости.\n",
        "\n",
        "4. Наполните горшок поочередно смесью, начиная отверхности.\n",
        "\n",
        "5. Разложите насыпку из глины по стенкам горшка.\n",
        "\n",
        "6. Возьмите лопату, кисточку и палочку, чтобы создать каркас горшка.\n",
        "\n",
        "7. Украсьте горшок из глины различными текстурами и цветами, такими как камень, металл, стекло и другие материалы.\n",
        "\n",
        "Посмотрите видео, чтобы узнать больше о том, как сделать горшок из глины:\n",
        "\n",
        "Приятного творчества!\n",
        "```"
      ]
    }
  ],
  "metadata": {
    "colab": {
      "provenance": [],
      "toc_visible": true,
      "include_colab_link": true
    }
  },
  "nbformat": 4,
  "nbformat_minor": 0
}